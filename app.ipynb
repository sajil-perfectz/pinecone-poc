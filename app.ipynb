{
 "cells": [
  {
   "cell_type": "code",
   "execution_count": null,
   "metadata": {},
   "outputs": [],
   "source": [
    "# Import libraries\n",
    "\n",
    "import os\n",
    "import json\n",
    "from uuid import uuid4\n",
    "from pinecone import Pinecone\n",
    "from langchain_pinecone import PineconeVectorStore\n",
    "from langchain_cohere import CohereEmbeddings\n",
    "from langchain.schema import Document\n",
    "from dotenv import load_dotenv\n",
    "load_dotenv()"
   ]
  },
  {
   "cell_type": "code",
   "execution_count": null,
   "metadata": {},
   "outputs": [],
   "source": [
    "def read_user_details(directory):\n",
    "    with open(directory, 'r') as f:\n",
    "        data = json.load(f)\n",
    "        return data\n",
    "    \n",
    "user_profiles = read_user_details('users.json')\n",
    "print(user_profiles)"
   ]
  },
  {
   "cell_type": "code",
   "execution_count": null,
   "metadata": {},
   "outputs": [],
   "source": [
    "# Create function to convert profile to text\n",
    "def profile_to_text(profile):\n",
    "    interests = \", \".join(profile.get(\"Interests\", []))\n",
    "    likes = \", \".join(profile.get(\"Likes\", []))\n",
    "    dislikes = \", \".join(profile.get(\"Dislikes\", []))\n",
    "    hobbies = \", \".join(profile.get(\"Hobbies\", []))\n",
    "    \n",
    "    return (\n",
    "        f\"Age: {profile['Age']}, \"\n",
    "        f\"{profile['Gender']}, \"\n",
    "        f\"{interests}, {likes}, {dislikes}, \"\n",
    "        f\"{profile['Occupation']}, \"\n",
    "        f\"{hobbies}, {profile['Looking For']}\"\n",
    "    )\n",
    "\n",
    "documents = [\n",
    "    Document(\n",
    "        page_content=profile_to_text(profile),\n",
    "        metadata={\n",
    "            \"Name\": profile['Name'],\n",
    "            \"Location\": profile['Location'],\n",
    "            \"Gender\": profile['Gender'],\n",
    "            \"Looking For\": profile['Looking For']\n",
    "        }\n",
    "    )\n",
    "    for profile in user_profiles\n",
    "]\n",
    "documents"
   ]
  },
  {
   "cell_type": "code",
   "execution_count": null,
   "metadata": {},
   "outputs": [],
   "source": [
    "embeddings_model = CohereEmbeddings(cohere_api_key=os.environ['COHERE_API_KEY'], model='embed-english-v3.0')\n",
    "embeddings_model"
   ]
  },
  {
   "cell_type": "code",
   "execution_count": null,
   "metadata": {},
   "outputs": [],
   "source": [
    "# Vector Search DB In Pinecone\n",
    "pc = Pinecone(api_key=os.environ['PINECONE_API_KEY'])\n",
    "index = pc.Index(os.environ['INDEX_NAME'])\n",
    "\n",
    "uuids = [str(uuid4()) for _ in range(len(documents))]\n",
    "\n",
    "vector_store = PineconeVectorStore(index=index, embedding=embeddings_model)\n",
    "vector_store.add_documents(ids=uuids, documents=documents)"
   ]
  },
  {
   "cell_type": "code",
   "execution_count": null,
   "metadata": {},
   "outputs": [],
   "source": [
    "user = {\n",
    "  \"id\": 17,\n",
    "  \"Name\": \"Oliver Green\",\n",
    "  \"Age\": 27,\n",
    "  \"Location\": \"Auckland, New Zealand\",\n",
    "  \"Gender\": \"Male\",\n",
    "  \"Interests\": [\n",
    "    \"Surfing\",\n",
    "    \"Hiking\",\n",
    "    \"Photography\"\n",
    "  ],\n",
    "  \"Likes\": [\n",
    "    \"Seafood\",\n",
    "    \"Adventure sports\",\n",
    "    \"Nature documentaries\"\n",
    "  ],\n",
    "  \"Dislikes\": [\n",
    "    \"Crowds\",\n",
    "    \"Fast food\"\n",
    "  ],\n",
    "  \"Occupation\": \"Marine biologist\",\n",
    "  \"Hobbies\": [\n",
    "    \"Traveling\",\n",
    "    \"Cooking\"\n",
    "  ],\n",
    "  \"Looking For\": \"Casual dating\"\n",
    "}\n",
    "\n",
    "user_text = profile_to_text(user)\n",
    "\n",
    "results = vector_store.similarity_search_with_score(\n",
    "    user_text, \n",
    "    k=4,\n",
    "    filter={\n",
    "      \"Looking For\": user[\"Looking For\"],\n",
    "      \"Gender\": \"Female\"\n",
    "    }\n",
    ")\n",
    "\n",
    "results"
   ]
  }
 ],
 "metadata": {
  "kernelspec": {
   "display_name": ".venv",
   "language": "python",
   "name": "python3"
  },
  "language_info": {
   "codemirror_mode": {
    "name": "ipython",
    "version": 3
   },
   "file_extension": ".py",
   "mimetype": "text/x-python",
   "name": "python",
   "nbconvert_exporter": "python",
   "pygments_lexer": "ipython3",
   "version": "3.10.7"
  }
 },
 "nbformat": 4,
 "nbformat_minor": 2
}
